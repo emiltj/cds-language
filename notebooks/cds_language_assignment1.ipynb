{
 "cells": [
  {
   "cell_type": "markdown",
   "metadata": {},
   "source": [
    "# Basic scripting with Python\n",
    "\n",
    "Using the corpus called 100-english-novels found on the cds-language GitHub repo, write a Python programme which does the following:\n",
    "\n",
    "Calculate the total word count for each novel\n",
    "Calculate the total number of unique words for each novel\n",
    "Save result as a single file consisting of three columns: filename, total_words, unique_words\n",
    "\n",
    "\n",
    "# General instructions\n",
    "\n",
    "For this exercise, you can upload either a standalone script OR a Jupyter Notebook\n",
    "Save your script as word_counts.py OR word_counts.ipynb\n",
    "You can either upload the script/notebook here or push to GitHub and include a link - or both!\n",
    "Your code should be clearly documented in a way that allows others to easily follow the structure of your script.\n",
    "Similarly, remember to use descriptive variable names! A name like word_count is more readable than wcnt.\n",
    "\n",
    "- s\n",
    "# Purpose\n",
    "\n",
    "This assignment is designed to test that you have a understanding of:\n",
    "\n",
    "how to structure, document, and share a Python script;\n",
    "how to effectively make use of native Python data structures, functions, and flow control;\n",
    "how to load, save, and process text files."
   ]
  },
  {
   "cell_type": "code",
   "execution_count": 1,
   "metadata": {},
   "outputs": [],
   "source": [
    "# Importing all the necessary modules\n",
    "import os\n",
    "import re\n",
    "import pandas as pd\n",
    "from pathlib import Path"
   ]
  },
  {
   "cell_type": "code",
   "execution_count": 2,
   "metadata": {},
   "outputs": [],
   "source": [
    "# Creating an object which contains the path to the text corpus - in this way the code can be used both for OS that utilizes backslash and forward slash\n",
    "filepath = os.path.join(\"..\", \"data\", \"100_english_novels\", \"corpus\")\n",
    "\n",
    "# Creating empty lists, later to be appended to\n",
    "filenames = []\n",
    "n_words = []\n",
    "n_unique_words = []"
   ]
  },
  {
   "cell_type": "code",
   "execution_count": 3,
   "metadata": {},
   "outputs": [],
   "source": [
    "# Retrieving filename, number of words (n_words) and number of unique words (n_unique_words)\n",
    "for file in Path(filepath).glob(\"*.txt\"): # For each file in the filepath that ends with .txt, read the file into \"text\"\n",
    "    with open(file, \"r\", encoding=\"utf-8\") as file: \n",
    "        text = file.read()\n",
    "        \n",
    "        textname = re.sub('^.+\\/', \"\", file.name) # Retrieve the name of the text (without the path)\n",
    "        text = re.sub('[^A-Za-z0-9\\ \\s]+', '', text) # Delete all special characters within the text\n",
    "        text_words = text.split() # Split the text into a list of words\n",
    "        unique_text_words = list(set(text_words)) # Make a set of only the unique words\n",
    "        \n",
    "        # Append the filenames, the number of words, and the number of unique words to the empty lists.\n",
    "        filenames.append(textname)\n",
    "        n_words.append(len(text_words))\n",
    "        n_unique_words.append(len(unique_text_words))"
   ]
  },
  {
   "cell_type": "code",
   "execution_count": 4,
   "metadata": {},
   "outputs": [],
   "source": [
    "# Create a dict for the information we have retrieved, with what we see in red as the key.\n",
    "data = {'filename': filenames, 'n_words': n_words, 'n_unique_words': n_unique_words}"
   ]
  },
  {
   "cell_type": "code",
   "execution_count": 5,
   "metadata": {},
   "outputs": [],
   "source": [
    "# Create a pandas dataframe from the dictionary.\n",
    "# Here key becomes name of column, while the value (list) becomes the values of the column\n",
    "meta_data = pd.DataFrame(data)"
   ]
  },
  {
   "cell_type": "code",
   "execution_count": 6,
   "metadata": {},
   "outputs": [],
   "source": [
    "# Create output path\n",
    "outpath = os.path.join(\"..\", \"data\", \"100_english_novels\", \"meta_data.csv\")"
   ]
  },
  {
   "cell_type": "code",
   "execution_count": 7,
   "metadata": {},
   "outputs": [],
   "source": [
    "# Write the dataframe to outpath\n",
    "meta_data.to_csv(outpath)"
   ]
  },
  {
   "cell_type": "code",
   "execution_count": null,
   "metadata": {},
   "outputs": [],
   "source": []
  }
 ],
 "metadata": {
  "kernelspec": {
   "name": "lang101",
   "display_name": "lang101",
   "language": "python"
  },
  "language_info": {
   "codemirror_mode": {
    "name": "ipython",
    "version": 3
   },
   "file_extension": ".py",
   "mimetype": "text/x-python",
   "name": "python",
   "nbconvert_exporter": "python",
   "pygments_lexer": "ipython3",
   "version": "3.9.1-final"
  }
 },
 "nbformat": 4,
 "nbformat_minor": 4
}