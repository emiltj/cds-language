{
 "cells": [
  {
   "source": [
    "# Importing packages and loading file"
   ],
   "cell_type": "markdown",
   "metadata": {}
  },
  {
   "cell_type": "code",
   "execution_count": 3,
   "metadata": {},
   "outputs": [],
   "source": [
    "import os\n",
    "import pandas as pd\n",
    "from tqdm import tqdm\n",
    "\n",
    "import spacy\n",
    "nlp = spacy.load(\"en_core_web_sm\")"
   ]
  },
  {
   "cell_type": "code",
   "execution_count": 4,
   "metadata": {},
   "outputs": [],
   "source": [
    "file = os.path.join(\"..\", \"data\", \"labelled_data\", \"fake_or_real_news.csv\")"
   ]
  },
  {
   "cell_type": "code",
   "execution_count": 5,
   "metadata": {},
   "outputs": [],
   "source": [
    "data = pd.read_csv(file)"
   ]
  },
  {
   "cell_type": "code",
   "execution_count": 6,
   "metadata": {},
   "outputs": [],
   "source": [
    "real_df = data[data[\"label\"]==\"REAL\"][\"text\"]"
   ]
  },
  {
   "source": [
    "# Extract entities -> DON'T RUN BELOW"
   ],
   "cell_type": "markdown",
   "metadata": {}
  },
  {
   "cell_type": "code",
   "execution_count": 7,
   "metadata": {},
   "outputs": [
    {
     "output_type": "stream",
     "name": "stderr",
     "text": [
      "100%|██████████| 3171/3171 [18:06<00:00,  2.92it/s]\n"
     ]
    }
   ],
   "source": [
    "post_entities = []\n",
    "\n",
    "########## TAKES A LONG TIME!\n",
    "\n",
    "for post in tqdm(real_df):\n",
    "    # create temporary list\n",
    "    tmp_list = []\n",
    "    # create spacy doc object\n",
    "    doc = nlp(post)\n",
    "    # for every named entity in the doc:\n",
    "    for entity in doc.ents:\n",
    "        if entity.label_ == \"PERSON\":\n",
    "            tmp_list.append(entity.text)\n",
    "    post_entities.append(tmp_list)"
   ]
  },
  {
   "cell_type": "code",
   "execution_count": 24,
   "metadata": {},
   "outputs": [
    {
     "output_type": "execute_result",
     "data": {
      "text/plain": [
       "['John F. Kerry',\n",
       " 'Kerry',\n",
       " 'Laurent Fabius',\n",
       " 'Francois Hollande',\n",
       " 'Kerry',\n",
       " 'Obama',\n",
       " 'Kerry',\n",
       " 'Obama',\n",
       " 'Kerry',\n",
       " 'Benjamin Netanyahu',\n",
       " 'Jane Hartley',\n",
       " 'Victoria Nuland',\n",
       " 'Eric H. Holder Jr.',\n",
       " 'Kerry',\n",
       " 'Narendra Modi',\n",
       " 'Kerry']"
      ]
     },
     "metadata": {},
     "execution_count": 24
    }
   ],
   "source": [
    "post_entities[0]"
   ]
  },
  {
   "source": [
    "# Extract edgelists using itertools.entities"
   ],
   "cell_type": "markdown",
   "metadata": {}
  },
  {
   "cell_type": "code",
   "execution_count": 13,
   "metadata": {},
   "outputs": [],
   "source": [
    "from itertools import combinations"
   ]
  },
  {
   "cell_type": "code",
   "execution_count": 14,
   "metadata": {},
   "outputs": [],
   "source": [
    "edgelist = []\n",
    "\n",
    "# Iterate over every document (\"post entities)\")\n",
    "for doc in post_entities:\n",
    "    edges = list(combinations(doc, 2))\n",
    "    # For each combination (each pair of nodes)\n",
    "    for edge in edges:\n",
    "        # Append this to the final edgelist\n",
    "        edgelist.append(tuple(sorted(edge))) #sorted gives alphabetical order"
   ]
  },
  {
   "cell_type": "code",
   "execution_count": 15,
   "metadata": {},
   "outputs": [
    {
     "output_type": "execute_result",
     "data": {
      "text/plain": [
       "[(1, 2),\n",
       " (1, 3),\n",
       " (1, 4),\n",
       " (1, 5),\n",
       " (2, 3),\n",
       " (2, 4),\n",
       " (2, 5),\n",
       " (3, 4),\n",
       " (3, 5),\n",
       " (4, 5)]"
      ]
     },
     "metadata": {},
     "execution_count": 15
    }
   ],
   "source": [
    "list(combinations([1,2,3,4,5],2)) # Giving an example of what we are doing -> We're getting all possible combinations within each document"
   ]
  },
  {
   "cell_type": "code",
   "execution_count": 16,
   "metadata": {},
   "outputs": [
    {
     "output_type": "execute_result",
     "data": {
      "text/plain": [
       "[('John F. Kerry', 'Kerry'),\n",
       " ('John F. Kerry', 'Laurent Fabius'),\n",
       " ('Francois Hollande', 'John F. Kerry'),\n",
       " ('John F. Kerry', 'Kerry'),\n",
       " ('John F. Kerry', 'Obama'),\n",
       " ('John F. Kerry', 'Kerry'),\n",
       " ('John F. Kerry', 'Obama'),\n",
       " ('John F. Kerry', 'Kerry'),\n",
       " ('Benjamin Netanyahu', 'John F. Kerry'),\n",
       " ('Jane Hartley', 'John F. Kerry')]"
      ]
     },
     "metadata": {},
     "execution_count": 16
    }
   ],
   "source": [
    "edgelist[:10]"
   ]
  },
  {
   "cell_type": "code",
   "execution_count": 17,
   "metadata": {},
   "outputs": [
    {
     "output_type": "execute_result",
     "data": {
      "text/plain": [
       "1508000"
      ]
     },
     "metadata": {},
     "execution_count": 17
    }
   ],
   "source": [
    "len(edgelist) # 1.3 mio. edges"
   ]
  },
  {
   "source": [
    "# Counting edges"
   ],
   "cell_type": "markdown",
   "metadata": {}
  },
  {
   "cell_type": "code",
   "execution_count": 18,
   "metadata": {},
   "outputs": [],
   "source": [
    "from collections import Counter"
   ]
  },
  {
   "cell_type": "code",
   "execution_count": 29,
   "metadata": {},
   "outputs": [
    {
     "output_type": "execute_result",
     "data": {
      "text/plain": [
       "[(('Clinton', 'Clinton'), 74059),\n",
       " (('Clinton', 'Trump'), 30544),\n",
       " (('Trump', 'Trump'), 21864),\n",
       " (('Clinton', 'Hillary Clinton'), 14208),\n",
       " (('Clinton', 'Obama'), 14138)]"
      ]
     },
     "metadata": {},
     "execution_count": 29
    }
   ],
   "source": [
    "Counter(edgelist).most_common(5) # return the 10 most common edges"
   ]
  },
  {
   "cell_type": "code",
   "execution_count": 20,
   "metadata": {},
   "outputs": [],
   "source": [
    "counted_edges = []\n",
    "\n",
    "for pair, weight in Counter(edgelist).items():\n",
    "    nodeA = pair[0]\n",
    "    nodeB = pair[1]\n",
    "    counted_edges.append((nodeA, nodeB, weight))"
   ]
  },
  {
   "cell_type": "code",
   "execution_count": 34,
   "metadata": {},
   "outputs": [
    {
     "output_type": "execute_result",
     "data": {
      "text/plain": [
       "[('John F. Kerry', 'Kerry', 22),\n",
       " ('John F. Kerry', 'Laurent Fabius', 2),\n",
       " ('Francois Hollande', 'John F. Kerry', 1)]"
      ]
     },
     "metadata": {},
     "execution_count": 34
    }
   ],
   "source": [
    "counted_edges[:3]"
   ]
  },
  {
   "cell_type": "code",
   "execution_count": 23,
   "metadata": {},
   "outputs": [
    {
     "output_type": "execute_result",
     "data": {
      "text/plain": [
       "286424"
      ]
     },
     "metadata": {},
     "execution_count": 23
    }
   ],
   "source": [
    "len(counted_edges)"
   ]
  },
  {
   "source": [
    "# Create dataframe"
   ],
   "cell_type": "markdown",
   "metadata": {}
  },
  {
   "cell_type": "code",
   "execution_count": 37,
   "metadata": {},
   "outputs": [],
   "source": [
    "edges_df = pd.DataFrame(counted_edges, columns = [\"nodeA\", \"nodeB\", \"weight\"])"
   ]
  },
  {
   "cell_type": "code",
   "execution_count": 39,
   "metadata": {},
   "outputs": [
    {
     "output_type": "execute_result",
     "data": {
      "text/plain": [
       "                         nodeA             nodeB  weight\n",
       "168836          Daniel Webster  Elizabeth Warren       2\n",
       "282749            Bill Clinton           Plan A.       3\n",
       "193870  Khalid Sheikh Mohammed   Valerie Jarrett       1\n",
       "157215                    Josh       Mark Berman       1\n",
       "99546             Barack Obama    Bob Livingston       6"
      ],
      "text/html": "<div>\n<style scoped>\n    .dataframe tbody tr th:only-of-type {\n        vertical-align: middle;\n    }\n\n    .dataframe tbody tr th {\n        vertical-align: top;\n    }\n\n    .dataframe thead th {\n        text-align: right;\n    }\n</style>\n<table border=\"1\" class=\"dataframe\">\n  <thead>\n    <tr style=\"text-align: right;\">\n      <th></th>\n      <th>nodeA</th>\n      <th>nodeB</th>\n      <th>weight</th>\n    </tr>\n  </thead>\n  <tbody>\n    <tr>\n      <th>168836</th>\n      <td>Daniel Webster</td>\n      <td>Elizabeth Warren</td>\n      <td>2</td>\n    </tr>\n    <tr>\n      <th>282749</th>\n      <td>Bill Clinton</td>\n      <td>Plan A.</td>\n      <td>3</td>\n    </tr>\n    <tr>\n      <th>193870</th>\n      <td>Khalid Sheikh Mohammed</td>\n      <td>Valerie Jarrett</td>\n      <td>1</td>\n    </tr>\n    <tr>\n      <th>157215</th>\n      <td>Josh</td>\n      <td>Mark Berman</td>\n      <td>1</td>\n    </tr>\n    <tr>\n      <th>99546</th>\n      <td>Barack Obama</td>\n      <td>Bob Livingston</td>\n      <td>6</td>\n    </tr>\n  </tbody>\n</table>\n</div>"
     },
     "metadata": {},
     "execution_count": 39
    }
   ],
   "source": [
    "edges_df.sample(5)"
   ]
  },
  {
   "cell_type": "code",
   "execution_count": 46,
   "metadata": {},
   "outputs": [
    {
     "output_type": "stream",
     "name": "stdout",
     "text": [
      "            nodeA            nodeB  weight\n31          Obama            Obama    9438\n52        Clinton  Hillary Clinton   14208\n55   Donald Trump            Trump    9218\n59        Clinton     Donald Trump    9172\n65        Clinton            Trump   30544\n66          Trump            Trump   21864\n67           Cruz            Trump    9975\n81        Clinton          Clinton   74059\n84           Cruz             Cruz   10206\n148       Clinton            Obama   14138\n412          Bush             Bush   12400\n"
     ]
    }
   ],
   "source": [
    "print(edges_df[edges_df[\"weight\"] > 8000])\n",
    "filtered_df = edges_df[edges_df[\"weight\"] > 8000]"
   ]
  },
  {
   "cell_type": "code",
   "execution_count": 1,
   "metadata": {},
   "outputs": [
    {
     "output_type": "error",
     "ename": "NameError",
     "evalue": "name 'filtered_df' is not defined",
     "traceback": [
      "\u001b[1;31m---------------------------------------------------------------------------\u001b[0m",
      "\u001b[1;31mNameError\u001b[0m                                 Traceback (most recent call last)",
      "\u001b[1;32m<ipython-input-1-74ab5f09467a>\u001b[0m in \u001b[0;36m<module>\u001b[1;34m\u001b[0m\n\u001b[1;32m----> 1\u001b[1;33m \u001b[0mfiltered_df\u001b[0m\u001b[1;33m\u001b[0m\u001b[1;33m\u001b[0m\u001b[0m\n\u001b[0m",
      "\u001b[1;31mNameError\u001b[0m: name 'filtered_df' is not defined"
     ]
    }
   ],
   "source": []
  },
  {
   "cell_type": "code",
   "execution_count": 51,
   "metadata": {},
   "outputs": [],
   "source": [
    "import networkx as nx\n",
    "import matplotlib.pyplot as plt"
   ]
  },
  {
   "cell_type": "code",
   "execution_count": 52,
   "metadata": {},
   "outputs": [],
   "source": [
    "G = nx.from_pandas_edgelist(filtered_df, \"nodeA\", \"nodeB\", [\"weight\"])"
   ]
  },
  {
   "source": [
    "# Doesn't work plotting on windows with pygraphviz"
   ],
   "cell_type": "markdown",
   "metadata": {}
  },
  {
   "cell_type": "code",
   "execution_count": null,
   "metadata": {},
   "outputs": [],
   "source": [
    "# Use this instead:\n",
    "# https://networkx.org/documentation/stable//reference/drawing.html\n",
    "# Or matplotlib"
   ]
  },
  {
   "source": [
    "# Centrality measures for finding important nodes"
   ],
   "cell_type": "markdown",
   "metadata": {}
  },
  {
   "cell_type": "code",
   "execution_count": 56,
   "metadata": {},
   "outputs": [],
   "source": [
    "bc_metric = nx.betweenness_centrality(G)\n",
    "ev_metric = nx.eigenvector_centrality(G)"
   ]
  },
  {
   "cell_type": "code",
   "execution_count": 58,
   "metadata": {},
   "outputs": [
    {
     "output_type": "execute_result",
     "data": {
      "text/plain": [
       "{'Obama': 0.0,\n",
       " 'Clinton': 0.4666666666666667,\n",
       " 'Hillary Clinton': 0.0,\n",
       " 'Donald Trump': 0.0,\n",
       " 'Trump': 0.26666666666666666,\n",
       " 'Cruz': 0.0,\n",
       " 'Bush': 0.0}"
      ]
     },
     "metadata": {},
     "execution_count": 58
    }
   ],
   "source": [
    "bc_metric"
   ]
  },
  {
   "cell_type": "code",
   "execution_count": 62,
   "metadata": {},
   "outputs": [
    {
     "output_type": "execute_result",
     "data": {
      "text/plain": [
       "{'Obama': 0.27866589297905636,\n",
       " 'Clinton': 0.6217238696493992,\n",
       " 'Hillary Clinton': 0.1924203532943302,\n",
       " 'Donald Trump': 0.3634417992887106,\n",
       " 'Trump': 0.5525806832969451,\n",
       " 'Cruz': 0.24767681483282325,\n",
       " 'Bush': 2.753248468007037e-06}"
      ]
     },
     "metadata": {},
     "execution_count": 62
    }
   ],
   "source": [
    "ev_metric"
   ]
  },
  {
   "cell_type": "code",
   "execution_count": 83,
   "metadata": {},
   "outputs": [],
   "source": [
    "importance_df = pd.DataFrame(bc_metric.items(), columns = [\"node\", \"betweenness\"])"
   ]
  },
  {
   "cell_type": "code",
   "execution_count": 84,
   "metadata": {},
   "outputs": [],
   "source": [
    "importance_df[\"eigenvector\"] = ev_metric.values()"
   ]
  },
  {
   "cell_type": "code",
   "execution_count": 85,
   "metadata": {},
   "outputs": [
    {
     "output_type": "execute_result",
     "data": {
      "text/plain": [
       "              node  betweenness  eigenvector\n",
       "0            Obama     0.000000     0.278666\n",
       "1          Clinton     0.466667     0.621724\n",
       "2  Hillary Clinton     0.000000     0.192420\n",
       "3     Donald Trump     0.000000     0.363442\n",
       "4            Trump     0.266667     0.552581\n",
       "5             Cruz     0.000000     0.247677\n",
       "6             Bush     0.000000     0.000003"
      ],
      "text/html": "<div>\n<style scoped>\n    .dataframe tbody tr th:only-of-type {\n        vertical-align: middle;\n    }\n\n    .dataframe tbody tr th {\n        vertical-align: top;\n    }\n\n    .dataframe thead th {\n        text-align: right;\n    }\n</style>\n<table border=\"1\" class=\"dataframe\">\n  <thead>\n    <tr style=\"text-align: right;\">\n      <th></th>\n      <th>node</th>\n      <th>betweenness</th>\n      <th>eigenvector</th>\n    </tr>\n  </thead>\n  <tbody>\n    <tr>\n      <th>0</th>\n      <td>Obama</td>\n      <td>0.000000</td>\n      <td>0.278666</td>\n    </tr>\n    <tr>\n      <th>1</th>\n      <td>Clinton</td>\n      <td>0.466667</td>\n      <td>0.621724</td>\n    </tr>\n    <tr>\n      <th>2</th>\n      <td>Hillary Clinton</td>\n      <td>0.000000</td>\n      <td>0.192420</td>\n    </tr>\n    <tr>\n      <th>3</th>\n      <td>Donald Trump</td>\n      <td>0.000000</td>\n      <td>0.363442</td>\n    </tr>\n    <tr>\n      <th>4</th>\n      <td>Trump</td>\n      <td>0.266667</td>\n      <td>0.552581</td>\n    </tr>\n    <tr>\n      <th>5</th>\n      <td>Cruz</td>\n      <td>0.000000</td>\n      <td>0.247677</td>\n    </tr>\n    <tr>\n      <th>6</th>\n      <td>Bush</td>\n      <td>0.000000</td>\n      <td>0.000003</td>\n    </tr>\n  </tbody>\n</table>\n</div>"
     },
     "metadata": {},
     "execution_count": 85
    }
   ],
   "source": [
    "importance_df"
   ]
  },
  {
   "cell_type": "code",
   "execution_count": null,
   "metadata": {},
   "outputs": [],
   "source": []
  }
 ],
 "metadata": {
  "kernelspec": {
   "display_name": "lang101",
   "language": "python",
   "name": "lang101"
  },
  "language_info": {
   "codemirror_mode": {
    "name": "ipython",
    "version": 3
   },
   "file_extension": ".py",
   "mimetype": "text/x-python",
   "name": "python",
   "nbconvert_exporter": "python",
   "pygments_lexer": "ipython3",
   "version": "3.9.1-final"
  }
 },
 "nbformat": 4,
 "nbformat_minor": 4
}