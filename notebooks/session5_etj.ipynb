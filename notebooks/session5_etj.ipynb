{
 "cells": [
  {
   "source": [
    "# Preflight checks\n",
    "1) install the following:\n",
    "\n",
    "- import plotly-express\n",
    "- import googlemaps\n",
    "- import tqdm\n",
    "\n",
    "2) setup account on google places API\n",
    "\n",
    "3) wget _\n",
    "\n",
    "4) \n"
   ],
   "cell_type": "markdown",
   "metadata": {}
  },
  {
   "cell_type": "code",
   "execution_count": null,
   "metadata": {},
   "outputs": [],
   "source": [
    "import plotly-express\n",
    "import googlemaps\n",
    "import tqdm\n"
   ]
  }
 ],
 "metadata": {
  "kernelspec": {
   "display_name": "Python 3",
   "language": "python",
   "name": "python3"
  },
  "language_info": {
   "codemirror_mode": {
    "name": "ipython",
    "version": 3
   },
   "file_extension": ".py",
   "mimetype": "text/x-python",
   "name": "python",
   "nbconvert_exporter": "python",
   "pygments_lexer": "ipython3",
   "version": "3.9.1-final"
  }
 },
 "nbformat": 4,
 "nbformat_minor": 4
}